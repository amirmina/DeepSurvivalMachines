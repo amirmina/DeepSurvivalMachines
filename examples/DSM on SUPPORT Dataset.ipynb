{
 "cells": [
  {
   "cell_type": "markdown",
   "metadata": {},
   "source": [
    "# DSM on SUPPORT Dataset"
   ]
  },
  {
   "cell_type": "markdown",
   "metadata": {},
   "source": [
    "The SUPPORT dataset comes from the Vanderbilt University study\n",
    "to estimate survival for seriously ill hospitalized adults.\n",
    "(Refer to http://biostat.mc.vanderbilt.edu/wiki/Main/SupportDesc.\n",
    "for the original datasource.)\n",
    "\n",
    "In this notebook, we will apply Deep Survival Machines for survival prediction on the SUPPORT data."
   ]
  },
  {
   "cell_type": "markdown",
   "metadata": {},
   "source": [
    "### Load the SUPPORT Dataset\n",
    "\n",
    "The package includes helper functions to load the dataset.\n",
    "\n",
    "X represents an np.array of features (covariates),\n",
    "T is the event/censoring times and,\n",
    "E is the censoring indicator."
   ]
  },
  {
   "cell_type": "code",
   "execution_count": 2,
   "metadata": {},
   "outputs": [],
   "source": [
    "import sys\n",
    "import os\n",
    "path = \"/home/ubuntu/\"\n",
    "sys.path.append(os.path.join(path, \"DeepSurvivalMachines\"))\n",
    "\n",
    "from dsm import datasets\n",
    "x, t, e = datasets.load_dataset('SUPPORT')"
   ]
  },
  {
   "cell_type": "markdown",
   "metadata": {},
   "source": [
    "### Compute horizons at which we evaluate the performance of DSM\n",
    "\n",
    "Survival predictions are issued at certain time horizons. Here we will evaluate the performance\n",
    "of DSM to issue predictions at the 25th, 50th and 75th event time quantile as is standard practice in Survival Analysis."
   ]
  },
  {
   "cell_type": "code",
   "execution_count": 3,
   "metadata": {},
   "outputs": [],
   "source": [
    "import numpy as np\n",
    "horizons = [0.25, 0.5, 0.75]\n",
    "times = np.quantile(t[e==1], horizons).tolist()"
   ]
  },
  {
   "cell_type": "markdown",
   "metadata": {},
   "source": [
    "### Splitting the data into train, test and validation sets\n",
    "\n",
    "We will train DSM on 70% of the Data, use a Validation set of 10% for Model Selection and report performance on the remaining 20% held out test set."
   ]
  },
  {
   "cell_type": "code",
   "execution_count": 4,
   "metadata": {},
   "outputs": [],
   "source": [
    "n = len(x)\n",
    "\n",
    "tr_size = int(n*0.70)\n",
    "vl_size = int(n*0.10)\n",
    "te_size = int(n*0.20)\n",
    "\n",
    "x_train, x_test, x_val = x[:tr_size], x[-te_size:], x[tr_size:tr_size+vl_size]\n",
    "t_train, t_test, t_val = t[:tr_size], t[-te_size:], t[tr_size:tr_size+vl_size]\n",
    "e_train, e_test, e_val = e[:tr_size], e[-te_size:], e[tr_size:tr_size+vl_size]"
   ]
  },
  {
   "cell_type": "markdown",
   "metadata": {},
   "source": [
    "### Setting the parameter grid\n",
    "\n",
    "Lets set up the parameter grid to tune hyper-parameters. We will tune the number of underlying survival distributions, \n",
    "($K$), the distribution choices (Log-Normal or Weibull), the learning rate for the Adam optimizer between $1\\times10^{-3}$ and $1\\times10^{-4}$ and the number of hidden layers between $0, 1$ and $2$."
   ]
  },
  {
   "cell_type": "code",
   "execution_count": 5,
   "metadata": {},
   "outputs": [],
   "source": [
    "from sklearn.model_selection import ParameterGrid"
   ]
  },
  {
   "cell_type": "code",
   "execution_count": 6,
   "metadata": {},
   "outputs": [],
   "source": [
    "param_grid = {'k' : [3, 4, 6],\n",
    "              'distribution' : ['LogNormal', 'Weibull'],\n",
    "              'learning_rate' : [ 1e-4, 1e-3],\n",
    "              'layers' : [ [], [100], [100, 100] ]\n",
    "             }\n",
    "params = ParameterGrid(param_grid)"
   ]
  },
  {
   "cell_type": "markdown",
   "metadata": {},
   "source": [
    "### Model Training and Selection"
   ]
  },
  {
   "cell_type": "code",
   "execution_count": 7,
   "metadata": {},
   "outputs": [],
   "source": [
    "from dsm import DeepSurvivalMachines"
   ]
  },
  {
   "cell_type": "code",
   "execution_count": 8,
   "metadata": {
    "scrolled": true
   },
   "outputs": [
    {
     "name": "stderr",
     "output_type": "stream",
     "text": [
      " 12%|█████████▌                                                                   | 1242/10000 [00:02<00:19, 449.58it/s]\n",
      "100%|█████████████████████████████████████████████████████████████████████████████████| 100/100 [00:12<00:00,  7.96it/s]\n",
      " 12%|█████████▌                                                                   | 1242/10000 [00:01<00:13, 628.37it/s]\n",
      " 37%|██████████████████████████████▎                                                   | 37/100 [00:05<00:08,  7.11it/s]\n",
      " 12%|█████████▌                                                                   | 1242/10000 [00:02<00:14, 619.24it/s]\n",
      " 81%|██████████████████████████████████████████████████████████████████▍               | 81/100 [00:11<00:02,  7.08it/s]\n",
      " 12%|█████████▌                                                                   | 1242/10000 [00:01<00:13, 635.02it/s]\n",
      " 17%|█████████████▉                                                                    | 17/100 [00:02<00:13,  6.19it/s]\n",
      " 12%|█████████▌                                                                   | 1242/10000 [00:01<00:14, 622.68it/s]\n",
      " 42%|██████████████████████████████████▍                                               | 42/100 [00:06<00:09,  6.36it/s]\n",
      " 12%|█████████▌                                                                   | 1242/10000 [00:01<00:13, 639.31it/s]\n",
      " 15%|████████████▎                                                                     | 15/100 [00:02<00:14,  6.05it/s]\n",
      " 12%|█████████▌                                                                   | 1242/10000 [00:01<00:13, 629.94it/s]\n",
      "100%|█████████████████████████████████████████████████████████████████████████████████| 100/100 [00:14<00:00,  7.02it/s]\n",
      " 12%|█████████▌                                                                   | 1242/10000 [00:01<00:13, 634.85it/s]\n",
      " 36%|█████████████████████████████▌                                                    | 36/100 [00:05<00:09,  6.76it/s]\n",
      " 12%|█████████▌                                                                   | 1242/10000 [00:01<00:13, 634.12it/s]\n",
      " 93%|████████████████████████████████████████████████████████████████████████████▎     | 93/100 [00:14<00:01,  6.27it/s]\n",
      " 12%|█████████▌                                                                   | 1242/10000 [00:02<00:14, 614.68it/s]\n",
      " 21%|█████████████████▏                                                                | 21/100 [00:03<00:13,  5.98it/s]\n",
      " 12%|█████████▌                                                                   | 1242/10000 [00:01<00:13, 634.63it/s]\n",
      " 43%|███████████████████████████████████▎                                              | 43/100 [00:07<00:09,  5.71it/s]\n",
      " 12%|█████████▌                                                                   | 1242/10000 [00:01<00:13, 631.33it/s]\n",
      " 13%|██████████▋                                                                       | 13/100 [00:02<00:16,  5.32it/s]\n",
      " 12%|█████████▌                                                                   | 1242/10000 [00:01<00:13, 634.01it/s]\n",
      "100%|█████████████████████████████████████████████████████████████████████████████████| 100/100 [00:17<00:00,  5.57it/s]\n",
      " 12%|█████████▌                                                                   | 1242/10000 [00:01<00:13, 634.27it/s]\n",
      " 42%|██████████████████████████████████▍                                               | 42/100 [00:07<00:10,  5.38it/s]\n",
      " 12%|█████████▌                                                                   | 1242/10000 [00:01<00:13, 640.02it/s]\n",
      " 78%|███████████████████████████████████████████████████████████████▉                  | 78/100 [00:15<00:04,  5.07it/s]\n",
      " 12%|█████████▌                                                                   | 1242/10000 [00:01<00:13, 639.13it/s]\n",
      " 16%|█████████████                                                                     | 16/100 [00:03<00:17,  4.76it/s]\n",
      " 12%|█████████▌                                                                   | 1242/10000 [00:01<00:13, 638.96it/s]\n",
      " 36%|█████████████████████████████▌                                                    | 36/100 [00:07<00:13,  4.66it/s]\n",
      " 12%|█████████▌                                                                   | 1242/10000 [00:01<00:13, 639.94it/s]\n",
      " 15%|████████████▎                                                                     | 15/100 [00:03<00:19,  4.45it/s]\n",
      " 18%|██████████████▏                                                              | 1845/10000 [00:02<00:13, 618.87it/s]\n",
      "100%|█████████████████████████████████████████████████████████████████████████████████| 100/100 [00:11<00:00,  8.98it/s]\n",
      " 18%|██████████████▏                                                              | 1845/10000 [00:02<00:13, 616.55it/s]\n",
      "100%|█████████████████████████████████████████████████████████████████████████████████| 100/100 [00:11<00:00,  8.94it/s]\n",
      " 18%|██████████████▏                                                              | 1845/10000 [00:03<00:13, 613.87it/s]\n",
      "100%|█████████████████████████████████████████████████████████████████████████████████| 100/100 [00:12<00:00,  7.95it/s]\n",
      " 18%|██████████████▏                                                              | 1845/10000 [00:02<00:13, 619.60it/s]\n",
      " 30%|████████████████████████▌                                                         | 30/100 [00:03<00:09,  7.59it/s]\n",
      " 18%|██████████████▏                                                              | 1845/10000 [00:02<00:13, 618.61it/s]\n",
      "100%|█████████████████████████████████████████████████████████████████████████████████| 100/100 [00:13<00:00,  7.15it/s]\n",
      " 18%|██████████████▏                                                              | 1845/10000 [00:02<00:13, 619.35it/s]\n",
      "100%|█████████████████████████████████████████████████████████████████████████████████| 100/100 [00:13<00:00,  7.24it/s]\n",
      " 18%|██████████████▏                                                              | 1845/10000 [00:02<00:13, 617.66it/s]\n",
      "100%|█████████████████████████████████████████████████████████████████████████████████| 100/100 [00:12<00:00,  8.02it/s]\n",
      " 18%|██████████████▏                                                              | 1845/10000 [00:03<00:13, 614.35it/s]\n",
      "100%|█████████████████████████████████████████████████████████████████████████████████| 100/100 [00:12<00:00,  7.98it/s]\n",
      " 18%|██████████████▏                                                              | 1845/10000 [00:03<00:13, 609.86it/s]\n",
      "100%|█████████████████████████████████████████████████████████████████████████████████| 100/100 [00:13<00:00,  7.22it/s]\n",
      " 18%|██████████████▏                                                              | 1845/10000 [00:03<00:13, 613.47it/s]\n",
      " 21%|█████████████████▏                                                                | 21/100 [00:03<00:11,  6.70it/s]\n",
      " 18%|██████████████▏                                                              | 1845/10000 [00:03<00:13, 610.20it/s]\n",
      " 64%|████████████████████████████████████████████████████▍                             | 64/100 [00:09<00:05,  6.43it/s]\n",
      " 18%|██████████████▏                                                              | 1845/10000 [00:03<00:13, 614.72it/s]\n",
      " 18%|██████████████▊                                                                   | 18/100 [00:02<00:13,  6.07it/s]\n",
      " 18%|██████████████▏                                                              | 1845/10000 [00:02<00:13, 619.45it/s]\n",
      "100%|█████████████████████████████████████████████████████████████████████████████████| 100/100 [00:15<00:00,  6.54it/s]\n",
      " 18%|██████████████▏                                                              | 1845/10000 [00:02<00:13, 618.01it/s]\n",
      "100%|█████████████████████████████████████████████████████████████████████████████████| 100/100 [00:15<00:00,  6.55it/s]\n",
      " 18%|██████████████▏                                                              | 1845/10000 [00:03<00:13, 614.72it/s]\n",
      "100%|█████████████████████████████████████████████████████████████████████████████████| 100/100 [00:16<00:00,  5.97it/s]\n",
      " 18%|██████████████▏                                                              | 1845/10000 [00:03<00:13, 612.62it/s]\n",
      " 22%|██████████████████                                                                | 22/100 [00:03<00:13,  5.60it/s]\n",
      " 18%|██████████████▏                                                              | 1845/10000 [00:03<00:13, 610.27it/s]\n",
      " 93%|████████████████████████████████████████████████████████████████████████████▎     | 93/100 [00:16<00:01,  5.47it/s]\n",
      " 18%|██████████████▏                                                              | 1845/10000 [00:02<00:13, 616.76it/s]\n",
      "100%|█████████████████████████████████████████████████████████████████████████████████| 100/100 [00:17<00:00,  5.56it/s]\n"
     ]
    }
   ],
   "source": [
    "models = []\n",
    "for param in params:\n",
    "    model = DeepSurvivalMachines(k = param['k'],\n",
    "                                 distribution = param['distribution'],\n",
    "                                 layers = param['layers'])\n",
    "    # The fit method is called to train the model\n",
    "    model.fit(x_train, t_train, e_train, iters = 100, learning_rate = param['learning_rate'])\n",
    "    models.append([[model.compute_nll(x_val, t_val, e_val), model]])\n",
    "best_model = min(models)\n",
    "model = best_model[0][1]"
   ]
  },
  {
   "cell_type": "markdown",
   "metadata": {},
   "source": [
    "### Inference"
   ]
  },
  {
   "cell_type": "code",
   "execution_count": 9,
   "metadata": {},
   "outputs": [],
   "source": [
    "out_risk = model.predict_risk(x_test, times)\n",
    "out_survival = model.predict_survival(x_test, times)"
   ]
  },
  {
   "cell_type": "markdown",
   "metadata": {},
   "source": [
    "### Evaluation\n",
    "\n",
    "We evaluate the performance of DSM in its discriminative ability (Time Dependent Concordance Index and Cumulative Dynamic AUC) as well as Brier Score."
   ]
  },
  {
   "cell_type": "code",
   "execution_count": 10,
   "metadata": {},
   "outputs": [],
   "source": [
    "from sksurv.metrics import concordance_index_ipcw, brier_score, cumulative_dynamic_auc"
   ]
  },
  {
   "cell_type": "code",
   "execution_count": 11,
   "metadata": {},
   "outputs": [
    {
     "name": "stdout",
     "output_type": "stream",
     "text": [
      "For 0.25 quantile,\n",
      "TD Concordance Index: 0.7599725448387127\n",
      "Brier Score: 0.11117671231416189\n",
      "ROC AUC  0.7702921720225825 \n",
      "\n",
      "For 0.5 quantile,\n",
      "TD Concordance Index: 0.7042284595815174\n",
      "Brier Score: 0.18256319957426942\n",
      "ROC AUC  0.7249247111486091 \n",
      "\n",
      "For 0.75 quantile,\n",
      "TD Concordance Index: 0.6595517112307617\n",
      "Brier Score: 0.2214871248399886\n",
      "ROC AUC  0.7139686193735991 \n",
      "\n"
     ]
    }
   ],
   "source": [
    "cis = []\n",
    "brs = []\n",
    "\n",
    "et_train = np.array([(e_train[i], t_train[i]) for i in range(len(e_train))],\n",
    "                 dtype = [('e', bool), ('t', float)])\n",
    "et_test = np.array([(e_test[i], t_test[i]) for i in range(len(e_test))],\n",
    "                 dtype = [('e', bool), ('t', float)])\n",
    "et_val = np.array([(e_val[i], t_val[i]) for i in range(len(e_val))],\n",
    "                 dtype = [('e', bool), ('t', float)])\n",
    "\n",
    "for i, _ in enumerate(times):\n",
    "    cis.append(concordance_index_ipcw(et_train, et_test, out_risk[:, i], times[i])[0])\n",
    "brs.append(brier_score(et_train, et_test, out_survival, times)[1])\n",
    "roc_auc = []\n",
    "for i, _ in enumerate(times):\n",
    "    roc_auc.append(cumulative_dynamic_auc(et_train, et_test, out_risk[:, i], times[i])[0])\n",
    "for horizon in enumerate(horizons):\n",
    "    print(f\"For {horizon[1]} quantile,\")\n",
    "    print(\"TD Concordance Index:\", cis[horizon[0]])\n",
    "    print(\"Brier Score:\", brs[0][horizon[0]])\n",
    "    print(\"ROC AUC \", roc_auc[horizon[0]][0], \"\\n\")"
   ]
  },
  {
   "cell_type": "code",
   "execution_count": null,
   "metadata": {},
   "outputs": [],
   "source": []
  }
 ],
 "metadata": {
  "kernelspec": {
   "display_name": "Python 3 (ipykernel)",
   "language": "python",
   "name": "python3"
  },
  "language_info": {
   "codemirror_mode": {
    "name": "ipython",
    "version": 3
   },
   "file_extension": ".py",
   "mimetype": "text/x-python",
   "name": "python",
   "nbconvert_exporter": "python",
   "pygments_lexer": "ipython3",
   "version": "3.9.7"
  }
 },
 "nbformat": 4,
 "nbformat_minor": 4
}
